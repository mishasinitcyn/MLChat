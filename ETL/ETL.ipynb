{
 "cells": [
  {
   "cell_type": "markdown",
   "metadata": {},
   "source": [
    "# ETL Pipeline"
   ]
  },
  {
   "cell_type": "code",
   "execution_count": null,
   "metadata": {},
   "outputs": [],
   "source": [
    "#!pip install langchain\n",
    "#!pip install pypdf\n",
    "#!pip install html2text\n",
    "#!pip install pylatexenc"
   ]
  },
  {
   "cell_type": "code",
   "execution_count": null,
   "metadata": {},
   "outputs": [],
   "source": [
    "import os\n",
    "import sys\n",
    "import langchain\n",
    "from langchain.document_loaders import PyPDFLoader\n",
    "from dotenv import load_dotenv\n",
    "import json\n",
    "from pylatexenc.latexencode import UnicodeToLatexEncoder\n",
    "import re"
   ]
  },
  {
   "cell_type": "markdown",
   "metadata": {},
   "source": [
    "## Setup textbook directory and file configurations"
   ]
  },
  {
   "cell_type": "code",
   "execution_count": null,
   "metadata": {},
   "outputs": [],
   "source": [
    "load_dotenv()\n",
    "TEXTBOOK_DIRECTORY = os.getenv('TEXTBOOK_DIRECTORY')\n",
    "DATA_DIRECTORY = os.getenv('DATA_DIRECTORY')\n",
    "\n",
    "with open('./textbook_config.json') as f:\n",
    "    textbook_config = json.load(f)\n",
    "\n",
    "print(\"Textbooks: \", textbook_config.keys())"
   ]
  },
  {
   "cell_type": "markdown",
   "metadata": {},
   "source": [
    "## Convert textbooks into plain text"
   ]
  },
  {
   "cell_type": "code",
   "execution_count": null,
   "metadata": {},
   "outputs": [],
   "source": [
    "for book_name, book_info in textbook_config.items():\n",
    "    \n",
    "    if(book_name == 'Deep Learning'): # Skip Deep Learning textbook due to formatting issues\n",
    "        continue\n",
    "    \n",
    "    loader = PyPDFLoader(f'{TEXTBOOK_DIRECTORY}/{book_name}.pdf')\n",
    "    pages = loader.load()\n",
    "\n",
    "    encoder = UnicodeToLatexEncoder(\n",
    "        replacement_latex_protection='braces-all',\n",
    "        unknown_char_policy='ignore'\n",
    "    )\n",
    "\n",
    "    for chapter in book_info['chapters']:\n",
    "        for chapter_number, page_range in chapter.items():\n",
    "            chapter_content = [pages[i].page_content for i in range(page_range[0]-1, page_range[1])]\n",
    "            chapter_content_latex = encoder.unicode_to_latex('\\n'.join(chapter_content)) # Convert the unicode characters to LaTeX\n",
    "            chapter_content_latex = re.sub(r'\\\\ensuremath\\{(.+?)\\}', r'\\1', chapter_content_latex) # Remove all instances of \\ensuremath{}\n",
    "            \n",
    "            # Manually fix incorrect LaTeX conversions\n",
    "            chapter_content_latex = re.sub(r'\\{\\\\textquoteright\\}', '`', chapter_content_latex)\n",
    "            chapter_content_latex = re.sub(r'\\{ff\\}', 'ff', chapter_content_latex)\n",
    "            chapter_content_latex = re.sub(r'\\{fi\\}', 'fi', chapter_content_latex)\n",
    "            chapter_content_latex = re.sub(r'\\{ffi\\}', 'ffi', chapter_content_latex) \n",
    "            chapter_content_latex = re.sub(r'\\{\\\\textbullet\\}', '', chapter_content_latex)\n",
    "\n",
    "            os.makedirs(f'{DATA_DIRECTORY}/{book_name}', exist_ok=True)\n",
    "            with open(f'{DATA_DIRECTORY}/{book_name}/{chapter_number}.txt', 'w') as f:\n",
    "                f.write(chapter_content_latex)\n",
    "\n",
    "    print(f'Processed {book_name}')"
   ]
  }
 ],
 "metadata": {
  "kernelspec": {
   "display_name": "Python 3",
   "language": "python",
   "name": "python3"
  },
  "language_info": {
   "codemirror_mode": {
    "name": "ipython",
    "version": 3
   },
   "file_extension": ".py",
   "mimetype": "text/x-python",
   "name": "python",
   "nbconvert_exporter": "python",
   "pygments_lexer": "ipython3",
   "version": "3.9.13"
  }
 },
 "nbformat": 4,
 "nbformat_minor": 2
}
