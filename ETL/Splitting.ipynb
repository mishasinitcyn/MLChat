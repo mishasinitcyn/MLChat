{
 "cells": [
  {
   "cell_type": "markdown",
   "metadata": {},
   "source": [
    "# Document Splitting"
   ]
  },
  {
   "cell_type": "code",
   "execution_count": 18,
   "metadata": {},
   "outputs": [],
   "source": [
    "import os\n",
    "import sys\n",
    "import langchain\n",
    "from langchain.document_loaders import PyPDFLoader\n",
    "from dotenv import load_dotenv\n",
    "import json\n",
    "from pylatexenc.latexencode import UnicodeToLatexEncoder\n",
    "import re\n",
    "from langchain.text_splitter import RecursiveCharacterTextSplitter, CharacterTextSplitter, TokenTextSplitter\n",
    "import tiktoken"
   ]
  },
  {
   "cell_type": "code",
   "execution_count": 2,
   "metadata": {},
   "outputs": [],
   "source": [
    "load_dotenv()\n",
    "TEXTBOOK_DIRECTORY = os.getenv('TEXTBOOK_DIRECTORY')\n",
    "DATA_DIRECTORY = os.getenv('DATA_DIRECTORY')"
   ]
  },
  {
   "cell_type": "markdown",
   "metadata": {},
   "source": [
    "## Define Splitter"
   ]
  },
  {
   "cell_type": "code",
   "execution_count": 29,
   "metadata": {},
   "outputs": [],
   "source": [
    "chunk_size = 521\n",
    "chunk_overlap = 0\n",
    "\n",
    "r_splitter = RecursiveCharacterTextSplitter(\n",
    "    chunk_size=chunk_size,\n",
    "    chunk_overlap=chunk_overlap\n",
    ")\n",
    "c_splitter = CharacterTextSplitter(\n",
    "    chunk_size=chunk_size,\n",
    "    chunk_overlap=chunk_overlap\n",
    ")\n",
    "t_splitter = TokenTextSplitter(\n",
    "    chunk_size=chunk_size,\n",
    "    chunk_overlap=chunk_overlap\n",
    ")"
   ]
  },
  {
   "cell_type": "markdown",
   "metadata": {},
   "source": [
    "## Load plain text data"
   ]
  },
  {
   "cell_type": "code",
   "execution_count": 51,
   "metadata": {},
   "outputs": [
    {
     "name": "stdout",
     "output_type": "stream",
     "text": [
      "Textbooks:  dict_keys(['Deep Learning', 'Stanford CS229', 'Math for Machine Learning', 'The Elements of Statistical Learning', 'An Introduction to Statistical Learning'])\n"
     ]
    }
   ],
   "source": [
    "with open('./textbook_config.json') as f:\n",
    "    textbook_config = json.load(f)\n",
    "\n",
    "print(\"Textbooks: \", textbook_config.keys())"
   ]
  },
  {
   "cell_type": "markdown",
   "metadata": {},
   "source": [
    "## Split data into chunks"
   ]
  },
  {
   "cell_type": "code",
   "execution_count": 60,
   "metadata": {},
   "outputs": [
    {
     "name": "stdout",
     "output_type": "stream",
     "text": [
      "Split the knowledge base into 522 chunks.\n"
     ]
    }
   ],
   "source": [
    "total_chunks = 0\n",
    "textbook_chunks = {}\n",
    "\n",
    "for book_name, book_info in textbook_config.items():\n",
    "    textbook_chunks[book_name] = {\n",
    "        \"authors\": book_info.get(\"authors\", []),\n",
    "        \"year\": book_info.get(\"year\", \"\"),\n",
    "        \"chapters\": []\n",
    "    }\n",
    "    for chapter in book_info['chapters']:\n",
    "        for chapter_number, page_range in chapter.items():\n",
    "\n",
    "            chapter_directory = f'{DATA_DIRECTORY}/{book_name}/{chapter_number}.txt'\n",
    "            with open(chapter_directory, 'r', encoding='utf-8') as file:\n",
    "                chapter_content = file.read()\n",
    "            chunks = t_splitter.split_text(chapter_content)\n",
    "            total_chunks += len(chunks)\n",
    "\n",
    "            textbook_chunks[book_name][\"chapters\"].append({chapter_number: chunks})\n",
    "\n",
    "print(f\"Split the knowledge base into {total_chunks} chunks.\")\n",
    "\n",
    "with open(f'{DATA_DIRECTORY}/chunks.json', 'w', encoding='utf-8') as file:\n",
    "    json.dump(textbook_chunks, file, ensure_ascii=False, indent=4)"
   ]
  },
  {
   "cell_type": "code",
   "execution_count": null,
   "metadata": {},
   "outputs": [],
   "source": []
  }
 ],
 "metadata": {
  "kernelspec": {
   "display_name": "base",
   "language": "python",
   "name": "python3"
  },
  "language_info": {
   "codemirror_mode": {
    "name": "ipython",
    "version": 3
   },
   "file_extension": ".py",
   "mimetype": "text/x-python",
   "name": "python",
   "nbconvert_exporter": "python",
   "pygments_lexer": "ipython3",
   "version": "3.9.13"
  }
 },
 "nbformat": 4,
 "nbformat_minor": 2
}
