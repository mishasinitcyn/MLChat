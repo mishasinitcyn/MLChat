{
 "cells": [
  {
   "cell_type": "code",
   "execution_count": 13,
   "metadata": {},
   "outputs": [],
   "source": [
    "# ! pip install pinecone-client"
   ]
  },
  {
   "cell_type": "code",
   "execution_count": 15,
   "metadata": {},
   "outputs": [],
   "source": [
    "from dotenv import load_dotenv\n",
    "import os\n",
    "import json\n",
    "import pandas as pd\n",
    "from pinecone import Pinecone, ServerlessSpec"
   ]
  },
  {
   "cell_type": "markdown",
   "metadata": {},
   "source": [
    "## Setup"
   ]
  },
  {
   "cell_type": "code",
   "execution_count": 10,
   "metadata": {},
   "outputs": [],
   "source": [
    "load_dotenv()\n",
    "PINECONE_API_KEY = os.getenv('PINECONE_API_KEY')\n",
    "DATA_DIRECTORY = os.getenv('DATA_DIRECTORY')\n",
    "pc = Pinecone(api_key=PINECONE_API_KEY)"
   ]
  },
  {
   "cell_type": "markdown",
   "metadata": {},
   "source": [
    "## Import data"
   ]
  },
  {
   "cell_type": "code",
   "execution_count": 44,
   "metadata": {},
   "outputs": [],
   "source": [
    "csv_file_path = os.path.join(DATA_DIRECTORY, 'data.csv')\n",
    "data = pd.read_csv(csv_file_path)\n",
    "data['id'] = data['id'].astype(str)\n",
    "data.head()\n",
    "\n",
    "data = data[data['textbook'] != \"An Introduction to Statistical Learning\"] # Exceeds the storage limit"
   ]
  },
  {
   "cell_type": "markdown",
   "metadata": {},
   "source": [
    "## Create database"
   ]
  },
  {
   "cell_type": "code",
   "execution_count": 42,
   "metadata": {},
   "outputs": [],
   "source": [
    "INDEX_NAME = os.getenv('INDEX_NAME')\n",
    "CLOUD = os.getenv('CLOUD') or 'aws'\n",
    "REGION = os.getenv('REGION') or 'us-east-1'\n",
    "\n",
    "spec = ServerlessSpec(cloud=CLOUD, region=REGION)\n",
    "\n",
    "if INDEX_NAME not in pc.list_indexes():\n",
    "    pc.create_index(\n",
    "        INDEX_NAME,\n",
    "        metric=\"dotproduct\",\n",
    "        dimension=1024,\n",
    "        spec = spec\n",
    "    )\n",
    "index = pc.Index(INDEX_NAME)"
   ]
  },
  {
   "cell_type": "markdown",
   "metadata": {},
   "source": [
    "### Upload data"
   ]
  },
  {
   "cell_type": "code",
   "execution_count": 45,
   "metadata": {},
   "outputs": [],
   "source": [
    "data['embedding'] = data['embedding'].apply(lambda x: json.loads(x))\n",
    "to_insert = data.apply(lambda row: (row['id'], row['embedding'], {\"content\": row['content'], \"textbook\": row['textbook'], \"chapter\": row['chapter']}), axis=1).tolist()\n",
    "index.upsert(vectors=to_insert)\n",
    "print(\"Data uploaded successfully!\")"
   ]
  }
 ],
 "metadata": {
  "kernelspec": {
   "display_name": "base",
   "language": "python",
   "name": "python3"
  },
  "language_info": {
   "codemirror_mode": {
    "name": "ipython",
    "version": 3
   },
   "file_extension": ".py",
   "mimetype": "text/x-python",
   "name": "python",
   "nbconvert_exporter": "python",
   "pygments_lexer": "ipython3",
   "version": "3.9.13"
  }
 },
 "nbformat": 4,
 "nbformat_minor": 2
}
